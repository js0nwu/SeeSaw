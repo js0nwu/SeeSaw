{
 "cells": [
  {
   "cell_type": "code",
   "execution_count": 1,
   "metadata": {},
   "outputs": [
    {
     "data": {
      "application/javascript": [
       "IPython.notebook.set_autosave_interval(15000)"
      ]
     },
     "metadata": {},
     "output_type": "display_data"
    },
    {
     "name": "stdout",
     "output_type": "stream",
     "text": [
      "Autosaving every 15 seconds\n"
     ]
    }
   ],
   "source": [
    "# Imports\n",
    "import sys\n",
    "import os\n",
    "import pandas as pd\n",
    "import matplotlib.pyplot as plt \n",
    "# %matplotlib inline\n",
    "from matplotlib.pylab import *\n",
    "from matplotlib import gridspec\n",
    "import copy\n",
    "import scipy\n",
    "from scipy.io                     import wavfile\n",
    "from scipy                        import stats, signal\n",
    "from scipy.fftpack                import fft\n",
    "from scipy.signal                 import lfilter, hamming\n",
    "from scipy.fftpack.realtransforms import dct\n",
    "import threading\n",
    "from scipy.signal import *\n",
    "from pylab import *\n",
    "from scipy.spatial.distance import euclidean\n",
    "import math\n",
    "# import arff\n",
    "from sklearn import metrics, svm\n",
    "import scipy.interpolate\n",
    "from sklearn.metrics import auc\n",
    "import numpy as np\n",
    "import time\n",
    "import datetime\n",
    "from datetime import datetime\n",
    "import csv\n",
    "# from sklearn.model_selection import train_test_split\n",
    "from sklearn import datasets\n",
    "from sklearn import svm\n",
    "%autosave 15"
   ]
  },
  {
   "cell_type": "markdown",
   "metadata": {},
   "source": [
    "# Main"
   ]
  },
  {
   "cell_type": "code",
   "execution_count": 9,
   "metadata": {},
   "outputs": [
    {
     "name": "stdout",
     "output_type": "stream",
     "text": [
      "mean: nans, stdev: nans\n"
     ]
    }
   ],
   "source": [
    "# Folder selection\n",
    "# folderPath = '/Volumes/HanSolo/Dropbox/Georgia Tech/TipTap/Data/RingWatch/2017_01_24/p2/'\n",
    "# folderPath = \"/Users/gareyes/Downloads/Synchro/swipedata/\"\n",
    "# folderPath = \"/Users/gareyes/Downloads/Pilot/P2/swipe/t1490397783698_p2_sit/\"\n",
    "folderPath = \"/Users/jwpilly/Downloads/Study_v2/P2/swipe/t20170401141910_p2_sit/\"\n",
    "# folderPath = '/Users/jwpilly/Research/RingWatch/2017_01_23/'\n",
    "dataPath = folderPath + \"data/\"\n",
    "if not os.path.exists(dataPath):\n",
    "    os.makedirs(dataPath)\n",
    "figurePath = folderPath + \"figures/\"\n",
    "if not os.path.exists(figurePath):\n",
    "    os.makedirs(figurePath)\n",
    "\n",
    "totalTimes = []\n",
    "# Walk the datapath\n",
    "for root, folders, files in os.walk(dataPath):\n",
    "    for f in files:\n",
    "        if \"Store\" not in f:\n",
    "            \n",
    "            # parse filename        \n",
    "            filePath = dataPath + f\n",
    "            figureFileName = f[:-4]\n",
    "            figureFilePath = figurePath + figureFileName\n",
    "\n",
    "            if \"swipe\" in f:\n",
    "                \n",
    "                print f\n",
    "                \n",
    "                # Load data\n",
    "                swipeData = pd.read_csv(filePath, sep=',', header=None, low_memory=False)\n",
    "                swipeData.columns = ['tsystem', 'action', 'x', 'y']\n",
    "\n",
    "                # Total Length\n",
    "                totalTime = calculateTotalTime(swipeData)\n",
    "                totalTimes.append(totalTime)\n",
    "                print totalTime\n",
    "\n",
    "                #todo: figure out time from buzz to swipedetected\n",
    "                #todo: figure out time from to lift to touchdown\n",
    "                #todo: figure out time from to touchdown to touchup\n",
    "                #todo: figure out time from touchup to swipedetected\n",
    "\n",
    "                # Normalize time data\n",
    "#                 swipeData = normalizeSystemTime(swipeData)\n",
    "\n",
    "                # Plot\n",
    "                startTime = swipeData.tsystem[swipeData[swipeData.action == \"vibrate\"].index.tolist()[0]]\n",
    "                downTime = swipeData.tsystem[swipeData[swipeData.action == \"touch_down\"].index.tolist()[0]]\n",
    "                endTime = swipeData.tsystem[swipeData[(swipeData.action == \"swipe left\") | (swipeData.action == \"end\") | (swipeData.action== \"swipe right\")].index.tolist()[0]]    \n",
    "                fig = plt.figure()\n",
    "#                 fig.set_size_inches(40,40)\n",
    "#                 plt.xlim(-100,4000)\n",
    "                plt.axvline(x=startTime)\n",
    "                plt.axvline(x=downTime)\n",
    "                plt.axvline(x=endTime)\n",
    "                plt.savefig(figureFilePath + \"_touch.png\")\n",
    "                plt.close()\n",
    "\n",
    "            elif \"wrist\" in f:\n",
    "            \n",
    "                \n",
    "                # Load data\n",
    "                wristData = pd.read_csv(filePath, sep=',', header=None, low_memory=False)\n",
    "                wristData.columns = ['sensor', 'index', 'tevent', 'tsystem', 'x', 'y', 'z']\n",
    "\n",
    "                # Total Length\n",
    "#                 print calculateTotalTime(wristData)\n",
    "\n",
    "                # Normalize time data\n",
    "#                 wristData = normalizeSystemTime(wristData)\n",
    "\n",
    "                # Plot gyro\n",
    "                fig = plt.figure()\n",
    "                fig.set_size_inches(20,20)\n",
    "                plt.plot(wristData.loc[wristData['sensor'] == \"android.sensor.accelerometer\"].tsystem, wristData.loc[wristData['sensor'] == \"android.sensor.accelerometer\"].x)\n",
    "                plt.plot(wristData.loc[wristData['sensor'] == \"android.sensor.accelerometer\"].tsystem, wristData.loc[wristData['sensor'] == \"android.sensor.accelerometer\"].y)\n",
    "                plt.plot(wristData.loc[wristData['sensor'] == \"android.sensor.accelerometer\"].tsystem, wristData.loc[wristData['sensor'] == \"android.sensor.accelerometer\"].z)\n",
    "                startTime = swipeData.tsystem[swipeData[swipeData.action == \"vibrate\"].index.tolist()[0]]\n",
    "                downTime = swipeData.tsystem[swipeData[swipeData.action == \"touch_down\"].index.tolist()[0]]\n",
    "                endTime = swipeData.tsystem[swipeData[(swipeData.action == \"swipe left\") | (swipeData.action == \"end\") | (swipeData.action== \"swipe right\")].index.tolist()[0]]    \n",
    "                # plt.xlim(-100,4000)\n",
    "                plt.axvline(x=startTime)\n",
    "                plt.axvline(x=downTime)\n",
    "                plt.axvline(x=endTime)\n",
    "                plt.savefig(figureFilePath + \"_accel.png\")\n",
    "                plt.close()\n",
    "\n",
    "                fig = plt.figure()\n",
    "                fig.set_size_inches(20,20)\n",
    "                plt.plot(wristData.loc[wristData['sensor'] == \"android.sensor.gyroscope\"].tsystem, wristData.loc[wristData['sensor'] == \"android.sensor.gyroscope\"].x)\n",
    "                plt.plot(wristData.loc[wristData['sensor'] == \"android.sensor.gyroscope\"].tsystem, wristData.loc[wristData['sensor'] == \"android.sensor.gyroscope\"].y)\n",
    "                plt.plot(wristData.loc[wristData['sensor'] == \"android.sensor.gyroscope\"].tsystem, wristData.loc[wristData['sensor'] == \"android.sensor.gyroscope\"].z)\n",
    "                startTime = swipeData.tsystem[swipeData[swipeData.action == \"vibrate\"].index.tolist()[0]]\n",
    "                downTime = swipeData.tsystem[swipeData[swipeData.action == \"touch_down\"].index.tolist()[0]]\n",
    "                endTime = swipeData.tsystem[swipeData[(swipeData.action == \"swipe left\") | (swipeData.action == \"end\") | (swipeData.action== \"swipe right\")].index.tolist()[0]]    \n",
    "                # plt.xlim(-100,4000)\n",
    "                plt.axvline(x=startTime)\n",
    "                plt.axvline(x=downTime)\n",
    "                plt.axvline(x=endTime)\n",
    "                plt.savefig(figureFilePath + \"_gyro.png\")\n",
    "                plt.close()\n",
    "                           \n",
    "    print \"mean: \" + str(np.mean(totalTimes)/1000) + \"s\" + \", stdev: \" + str(np.std(totalTimes)/1000) + \"s\""
   ]
  },
  {
   "cell_type": "code",
   "execution_count": 3,
   "metadata": {},
   "outputs": [
    {
     "data": {
      "text/plain": [
       "[]"
      ]
     },
     "execution_count": 3,
     "metadata": {},
     "output_type": "execute_result"
    }
   ],
   "source": [
    "totalTimes"
   ]
  },
  {
   "cell_type": "code",
   "execution_count": null,
   "metadata": {
    "collapsed": true
   },
   "outputs": [],
   "source": [
    "plt.plot(totalTimes)\n",
    "# plt.ylim(0,3000)\n",
    "plt.show()"
   ]
  },
  {
   "cell_type": "markdown",
   "metadata": {},
   "source": [
    "# Helpers"
   ]
  },
  {
   "cell_type": "code",
   "execution_count": 4,
   "metadata": {},
   "outputs": [],
   "source": [
    "def calculateTotalTime(df):\n",
    "    startTime = df.tsystem[0]\n",
    "    endTime = df.tsystem[len(df.tsystem)-1]\n",
    "    return endTime - startTime"
   ]
  },
  {
   "cell_type": "code",
   "execution_count": 5,
   "metadata": {
    "collapsed": true
   },
   "outputs": [],
   "source": [
    "def normalizeEventTime(df):\n",
    "    newDf = df\n",
    "    newDf.tevent = newDf.tevent - newDf.tevent[0]\n",
    "    return newDf"
   ]
  },
  {
   "cell_type": "code",
   "execution_count": 6,
   "metadata": {
    "collapsed": true
   },
   "outputs": [],
   "source": [
    "def normalizeSystemTime(df):\n",
    "    newDf = df\n",
    "    newDf.tsystem = newDf.tsystem - newDf.tsystem[0]\n",
    "    return newDf"
   ]
  },
  {
   "cell_type": "markdown",
   "metadata": {},
   "source": [
    "# Testing"
   ]
  },
  {
   "cell_type": "code",
   "execution_count": 7,
   "metadata": {},
   "outputs": [
    {
     "ename": "NameError",
     "evalue": "name 'swipeData' is not defined",
     "output_type": "error",
     "traceback": [
      "\u001b[0;31m---------------------------------------------------------------------------\u001b[0m",
      "\u001b[0;31mNameError\u001b[0m                                 Traceback (most recent call last)",
      "\u001b[0;32m<ipython-input-7-c03c676ddab4>\u001b[0m in \u001b[0;36m<module>\u001b[0;34m()\u001b[0m\n\u001b[0;32m----> 1\u001b[0;31m \u001b[1;32mif\u001b[0m \u001b[1;34m\"vibrate\"\u001b[0m \u001b[1;32min\u001b[0m \u001b[0mswipeData\u001b[0m\u001b[1;33m.\u001b[0m\u001b[0maction\u001b[0m\u001b[1;33m:\u001b[0m\u001b[1;33m\u001b[0m\u001b[0m\n\u001b[0m\u001b[1;32m      2\u001b[0m     \u001b[1;32mprint\u001b[0m \u001b[0mswipeData\u001b[0m\u001b[1;33m.\u001b[0m\u001b[0mtevent\u001b[0m\u001b[1;33m\u001b[0m\u001b[0m\n",
      "\u001b[0;31mNameError\u001b[0m: name 'swipeData' is not defined"
     ]
    }
   ],
   "source": [
    "if \"vibrate\" in swipeData.action:\n",
    "    print swipeData.tevent"
   ]
  },
  {
   "cell_type": "code",
   "execution_count": null,
   "metadata": {},
   "outputs": [],
   "source": [
    "if 'vibrate' in swipeData.action.values:\n",
    "    s\n",
    "    "
   ]
  },
  {
   "cell_type": "code",
   "execution_count": 8,
   "metadata": {},
   "outputs": [
    {
     "ename": "NameError",
     "evalue": "name 'swipeData' is not defined",
     "output_type": "error",
     "traceback": [
      "\u001b[0;31m---------------------------------------------------------------------------\u001b[0m",
      "\u001b[0;31mNameError\u001b[0m                                 Traceback (most recent call last)",
      "\u001b[0;32m<ipython-input-8-b432a187ff77>\u001b[0m in \u001b[0;36m<module>\u001b[0;34m()\u001b[0m\n\u001b[0;32m----> 1\u001b[0;31m \u001b[0mswipeData\u001b[0m\u001b[1;33m.\u001b[0m\u001b[0maction\u001b[0m\u001b[1;33m.\u001b[0m\u001b[0mindex\u001b[0m\u001b[1;33m.\u001b[0m\u001b[0mtolist\u001b[0m\u001b[1;33m(\u001b[0m\u001b[1;33m)\u001b[0m\u001b[1;33m\u001b[0m\u001b[0m\n\u001b[0m",
      "\u001b[0;31mNameError\u001b[0m: name 'swipeData' is not defined"
     ]
    }
   ],
   "source": [
    "swipeData.action.index.tolist()\n"
   ]
  },
  {
   "cell_type": "code",
   "execution_count": null,
   "metadata": {},
   "outputs": [],
   "source": [
    "swipeData[swipeData.action == \"vibrate\"].index.tolist()"
   ]
  },
  {
   "cell_type": "code",
   "execution_count": null,
   "metadata": {},
   "outputs": [],
   "source": [
    "swipeData[swipeData.action == \"end\"].index.tolist()[0]"
   ]
  },
  {
   "cell_type": "code",
   "execution_count": null,
   "metadata": {},
   "outputs": [],
   "source": [
    "print swipeData.action[14]"
   ]
  },
  {
   "cell_type": "code",
   "execution_count": null,
   "metadata": {},
   "outputs": [],
   "source": [
    "print swipeData.tevent[swipeData[swipeData.action == \"vibrate\"].index.tolist()[0]]"
   ]
  },
  {
   "cell_type": "code",
   "execution_count": null,
   "metadata": {},
   "outputs": [],
   "source": [
    "print normalizeTime(swipeData)"
   ]
  },
  {
   "cell_type": "code",
   "execution_count": null,
   "metadata": {},
   "outputs": [],
   "source": [
    "df=swipeData\n",
    "df.tevent = df.tevent - df.tevent[0]\n",
    "print df\n"
   ]
  },
  {
   "cell_type": "code",
   "execution_count": null,
   "metadata": {},
   "outputs": [],
   "source": [
    "fig = plt.figure()\n",
    "fig.set_size_inches(40,40)\n",
    "plt.plot(wristData.loc[wristData['sensor'] == \"android.sensor.accelerometer\"].tsystem, wristData.loc[wristData['sensor'] == \"android.sensor.accelerometer\"].x)\n",
    "plt.plot(wristData.loc[wristData['sensor'] == \"android.sensor.accelerometer\"].tsystem, wristData.loc[wristData['sensor'] == \"android.sensor.accelerometer\"].y)\n",
    "plt.plot(wristData.loc[wristData['sensor'] == \"android.sensor.accelerometer\"].tsystem, wristData.loc[wristData['sensor'] == \"android.sensor.accelerometer\"].z)\n",
    "startTime = swipeData.tsystem[swipeData[swipeData.action == \"vibrate\"].index.tolist()[0]]\n",
    "downTime = swipeData.tsystem[swipeData[swipeData.action == \"touch_down\"].index.tolist()[0]]\n",
    "endTime = swipeData.tsystem[swipeData[swipeData.action == \"end\"].index.tolist()[0]]    \n",
    "# plt.xlim(-100,4000)\n",
    "plt.axvline(x=startTime)\n",
    "plt.axvline(x=downTime)\n",
    "plt.axvline(x=endTime)\n",
    "plt.show()\n",
    "\n",
    "fig = plt.figure()\n",
    "fig.set_size_inches(40,40)\n",
    "plt.plot(wristData.loc[wristData['sensor'] == \"android.sensor.gyroscope\"].tsystem, wristData.loc[wristData['sensor'] == \"android.sensor.gyroscope\"].x)\n",
    "plt.plot(wristData.loc[wristData['sensor'] == \"android.sensor.gyroscope\"].tsystem, wristData.loc[wristData['sensor'] == \"android.sensor.gyroscope\"].y)\n",
    "plt.plot(wristData.loc[wristData['sensor'] == \"android.sensor.gyroscope\"].tsystem, wristData.loc[wristData['sensor'] == \"android.sensor.gyroscope\"].z)\n",
    "startTime = swipeData.tsystem[swipeData[swipeData.action == \"vibrate\"].index.tolist()[0]]\n",
    "downTime = swipeData.tsystem[swipeData[swipeData.action == \"touch_down\"].index.tolist()[0]]\n",
    "endTime = swipeData.tsystem[swipeData[swipeData.action == \"end\"].index.tolist()[0]]    \n",
    "# plt.xlim(-100,4000)\n",
    "plt.axvline(x=startTime)\n",
    "plt.axvline(x=downTime)\n",
    "plt.axvline(x=endTime)\n",
    "plt.show()\n"
   ]
  },
  {
   "cell_type": "code",
   "execution_count": null,
   "metadata": {},
   "outputs": [],
   "source": [
    "startTime = swipeData.tsystem[swipeData[swipeData.action == \"vibrate\"].index.tolist()[0]]\n",
    "downTime = swipeData.tsystem[swipeData[swipeData.action == \"touch_down\"].index.tolist()[0]]\n",
    "endTime = swipeData.tsystem[swipeData[swipeData.action == \"end\"].index.tolist()[0]]    \n",
    "fig = plt.figure()\n",
    "# plt.xlim(-100,4000)\n",
    "plt.axvline(x=startTime)\n",
    "plt.axvline(x=downTime)\n",
    "plt.axvline(x=endTime)\n",
    "plt.show()\n"
   ]
  },
  {
   "cell_type": "code",
   "execution_count": null,
   "metadata": {},
   "outputs": [],
   "source": [
    "\"gyroscope\" in wristData.sensor"
   ]
  },
  {
   "cell_type": "code",
   "execution_count": null,
   "metadata": {},
   "outputs": [],
   "source": [
    "print wristData.sensor"
   ]
  },
  {
   "cell_type": "code",
   "execution_count": null,
   "metadata": {},
   "outputs": [],
   "source": [
    "wristData.loc[wristData['sensor'] == \"android.sensor.accelerometer\"].y"
   ]
  },
  {
   "cell_type": "code",
   "execution_count": 10,
   "metadata": {
    "collapsed": true
   },
   "outputs": [],
   "source": [
    "def processSwipeFile(folderPath):    \n",
    "    dataPath = folderPath + \"data/\"\n",
    "    if not os.path.exists(dataPath):\n",
    "        os.makedirs(dataPath)\n",
    "\n",
    "    totalTimes = []\n",
    "    # Walk the datapath\n",
    "    for root, folders, files in os.walk(dataPath):\n",
    "        for f in files:\n",
    "            if \"Store\" not in f:\n",
    "\n",
    "                # parse filename        \n",
    "                filePath = dataPath + f\n",
    "\n",
    "                if \"swipe\" in f:\n",
    "\n",
    "                    # print f\n",
    "\n",
    "                    # Load data\n",
    "                    swipeData = pd.read_csv(filePath, sep=',', header=None, low_memory=False)\n",
    "                    swipeData.columns = ['tsystem', 'action', 'x', 'y']\n",
    "\n",
    "                    # Total Length\n",
    "                    totalTime = calculateTotalTime(swipeData)\n",
    "                    totalTimes.append(totalTime)\n",
    "                    # print totalTime\n",
    "\n",
    "                    #todo: figure out time from buzz to swipedetected\n",
    "                    #todo: figure out time from to lift to touchdown\n",
    "                    #todo: figure out time from to touchdown to touchup\n",
    "                    #todo: figure out time from touchup to swipedetected\n",
    "\n",
    "                    # Normalize time data\n",
    "    #                 swipeData = normalizeSystemTime(swipeData)\n",
    "\n",
    "                    # Plot\n",
    "                    startTime = swipeData.tsystem[swipeData[swipeData.action == \"vibrate\"].index.tolist()[0]]\n",
    "                    downTime = swipeData.tsystem[swipeData[swipeData.action == \"touch_down\"].index.tolist()[0]]\n",
    "                    endTime = swipeData.tsystem[swipeData[(swipeData.action == \"swipe left\") | (swipeData.action == \"end\") | (swipeData.action== \"swipe right\")].index.tolist()[0]]    \n",
    "                    fig = plt.figure()\n",
    "    #                 fig.set_size_inches(40,40)\n",
    "    #                 plt.xlim(-100,4000)\n",
    "\n",
    "                elif \"wrist\" in f:\n",
    "\n",
    "\n",
    "                    # Load data\n",
    "                    wristData = pd.read_csv(filePath, sep=',', header=None, low_memory=False)\n",
    "                    wristData.columns = ['sensor', 'index', 'tevent', 'tsystem', 'x', 'y', 'z']\n",
    "\n",
    "                    # Total Length\n",
    "    #                 print calculateTotalTime(wristData)\n",
    "\n",
    "                    # Normalize time data\n",
    "    #                 wristData = normalizeSystemTime(wristData\n",
    "                    startTime = swipeData.tsystem[swipeData[swipeData.action == \"vibrate\"].index.tolist()[0]]\n",
    "                    downTime = swipeData.tsystem[swipeData[swipeData.action == \"touch_down\"].index.tolist()[0]]\n",
    "                    endTime = swipeData.tsystem[swipeData[(swipeData.action == \"swipe left\") | (swipeData.action == \"end\") | (swipeData.action== \"swipe right\")].index.tolist()[0]]    \n",
    "\n",
    "        # print \"mean: \" + str(np.mean(totalTimes)/1000) + \"s\" + \", stdev: \" + str(np.std(totalTimes)/1000) + \"s\"\n",
    "        return np.mean(totalTimes) / 1000"
   ]
  },
  {
   "cell_type": "code",
   "execution_count": 11,
   "metadata": {},
   "outputs": [
    {
     "name": "stdout",
     "output_type": "stream",
     "text": [
      "nan\n"
     ]
    }
   ],
   "source": [
    "print(processSwipeFile(\"/Users/jwpilly/Downloads/Study_v2/P2/swipe/t20170401141910_p2_sit/\"))"
   ]
  },
  {
   "cell_type": "code",
   "execution_count": null,
   "metadata": {},
   "outputs": [],
   "source": [
    "from functools import reduce\n",
    "\n",
    "baseFilePath = \"/Users/jwpilly/Documents/Research/Synchro/Study_v2/\"\n",
    "presults = []\n",
    "for root, folders, files in os.walk(baseFilePath):\n",
    "    if not root.endswith(\"swipe\"):\n",
    "        continue\n",
    "    sfolders = sorted(folders, key=lambda x : int(x.split(\"_\")[0].replace(\"t\", \"\")))\n",
    "    efolders = [f for f in sfolders[:] if \"prep\" not in f]\n",
    "    efolderpaths = [root + \"/\" + f + \"/\" for f in efolders]\n",
    "    efoldertimes = [(efolderpaths[i].split(\"_\")[-1][:-1] + str(i), processSwipeFile(efolderpaths[i])) for i in range(len(efolderpaths))]\n",
    "    presults.append(efoldertimes)\n",
    "presultsa = [[i[1] for i in t] for t in [sorted(r) for r in presults]]\n",
    "paverages = reduce(lambda x, y : np.array(x) + np.array(y), presultsa) / len(presultsa)\n",
    "print(paverages)"
   ]
  },
  {
   "cell_type": "code",
   "execution_count": null,
   "metadata": {},
   "outputs": [],
   "source": [
    "%matplotlib inline\n",
    "plt.clf()\n",
    "fig = plt.figure(figsize=(6, 4))\n",
    "objects = ('Practice 1', 'Practice 2', 'Eval 1', 'Eval 2')\n",
    "y_pos = np.arange(len(objects))\n",
    "performance = paverages\n",
    "# plt.bar(y_pos, performance, align='center', alpha=0.5)\n",
    "plt.plot(y_pos, [paverages[i] for i in range(4)], label=\"Sit\")\n",
    "plt.plot(y_pos, [paverages[i + 4] for i in range(4)], label=\"Walk\")\n",
    "plt.xticks(y_pos, objects)\n",
    "plt.ylim((1.5,2.5))\n",
    "plt.ylabel('Time (s)')\n",
    "plt.title('Swipe Times')\n",
    "plt.legend(loc=\"best\")\n",
    "plt.savefig(\"swipetimes.pdf\")"
   ]
  },
  {
   "cell_type": "code",
   "execution_count": null,
   "metadata": {
    "collapsed": true
   },
   "outputs": [],
   "source": []
  },
  {
   "cell_type": "code",
   "execution_count": null,
   "metadata": {
    "collapsed": true
   },
   "outputs": [],
   "source": []
  }
 ],
 "metadata": {
  "anaconda-cloud": {},
  "kernelspec": {
   "display_name": "Python 3",
   "language": "python",
   "name": "python3"
  },
  "language_info": {
   "codemirror_mode": {
    "name": "ipython",
    "version": 3
   },
   "file_extension": ".py",
   "mimetype": "text/x-python",
   "name": "python",
   "nbconvert_exporter": "python",
   "pygments_lexer": "ipython3",
   "version": "3.6.1"
  }
 },
 "nbformat": 4,
 "nbformat_minor": 1
}
